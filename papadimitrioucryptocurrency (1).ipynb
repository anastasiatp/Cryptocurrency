{
  "nbformat": 4,
  "nbformat_minor": 0,
  "metadata": {
    "colab": {
      "name": "papadimitrioucryptocurrency.ipynb",
      "provenance": [],
      "collapsed_sections": []
    },
    "kernelspec": {
      "name": "python3",
      "display_name": "Python 3"
    },
    "language_info": {
      "name": "python"
    }
  },
  "cells": [
    {
      "cell_type": "code",
      "metadata": {
        "id": "9cUBoj6l1C-8"
      },
      "source": [
        "from google.colab import drive \n",
        "drive.mount('/content/drive', force_remount=True)"
      ],
      "execution_count": null,
      "outputs": []
    },
    {
      "cell_type": "code",
      "metadata": {
        "id": "u-i9GgPM1Ka9"
      },
      "source": [
        "import sys\n",
        "sys.path.append(\"/content/drive/MyDrive/anastasia/\")\n",
        "import os\n",
        "os.chdir(\"/content/drive/MyDrive/anastasia/\")\n",
        "print(os.listdir(os.curdir))"
      ],
      "execution_count": null,
      "outputs": []
    },
    {
      "cell_type": "code",
      "metadata": {
        "id": "bwOOnbXw0-zc"
      },
      "source": [
        "import numpy as np \n",
        "import matplotlib.pyplot as plt\n",
        "import plotly.graph_objs as go\n",
        "from plotly.offline import init_notebook_mode, iplot\n",
        "init_notebook_mode(connected=True)\n",
        "import plotly\n",
        "from sklearn import linear_model"
      ],
      "execution_count": null,
      "outputs": []
    },
    {
      "cell_type": "code",
      "metadata": {
        "id": "c6BmcpaT189S"
      },
      "source": [
        "import pandas as pd\n",
        "\n",
        "df1 = pd.read_csv('coin_Binance.csv')\n",
        "df2 = pd.read_csv('coin_Bitcoin.csv')\n",
        "df3 = df1.merge(df2, on='SNo')\n",
        "df4 = pd.read_csv('coin_Cardano.csv')\n",
        "df5 = df4.merge(df3, on='SNo')\n",
        "df6 = pd.read_csv('coin_Dogecoin.csv')\n",
        "df7 = df6.merge(df5, on='SNo')\n",
        "df8 = pd.read_csv('coin_Ethereum.csv')\n",
        "df9 = df8.merge(df7, on='SNo')\n",
        "df10 = pd.read_csv('coin_Litecoin.csv')\n",
        "df11 = df10.merge(df9, on='SNo')\n",
        "df12 = pd.read_csv('coin_XRP.csv')\n",
        "df13 = df12.merge(df11, on='SNo')"
      ],
      "execution_count": null,
      "outputs": []
    },
    {
      "cell_type": "code",
      "metadata": {
        "id": "nWHG4nYuYu4A"
      },
      "source": [
        "df13['Date'] = pd.to_datetime(df13['Date']).dt.date\n",
        "df13.head()"
      ],
      "execution_count": null,
      "outputs": []
    },
    {
      "cell_type": "code",
      "metadata": {
        "id": "A8QGBTMoY-tz"
      },
      "source": [
        "df13.tail()"
      ],
      "execution_count": null,
      "outputs": []
    },
    {
      "cell_type": "code",
      "metadata": {
        "id": "l4nAZa11mCTH"
      },
      "source": [
        "df13.isnull()"
      ],
      "execution_count": null,
      "outputs": []
    },
    {
      "cell_type": "code",
      "metadata": {
        "id": "cG4fXWIXmPws"
      },
      "source": [
        "df13.info()"
      ],
      "execution_count": null,
      "outputs": []
    },
    {
      "cell_type": "code",
      "metadata": {
        "id": "shFjTJpB_boJ"
      },
      "source": [
        "df13.describe()"
      ],
      "execution_count": null,
      "outputs": []
    },
    {
      "cell_type": "code",
      "metadata": {
        "id": "YU1HAxub-fox"
      },
      "source": [
        "df13.shape"
      ],
      "execution_count": null,
      "outputs": []
    },
    {
      "cell_type": "code",
      "metadata": {
        "id": "gEfCZbsD_jMJ"
      },
      "source": [
        "cols = ['XRP Close', 'DOGE Close', 'BTC Close', 'BNB Close', 'LTC Close', 'ADA Close', 'ETH Close']\n",
        "df14=df13[cols]\n",
        "df14"
      ],
      "execution_count": null,
      "outputs": []
    },
    {
      "cell_type": "code",
      "metadata": {
        "colab": {
          "base_uri": "https://localhost:8080/",
          "height": 300
        },
        "id": "uyzBjv_rrKct",
        "outputId": "306aacc7-a2bf-473d-e433-0e712b4b1dd1"
      },
      "source": [
        "cols = ['XRP Marketcap', 'DOGE Marketcap', 'BTC Marketcap', 'BNB Marketcap', 'LTC Marketcap', 'ADA Marketcap', 'ETH Marketcap']\n",
        "df30=df13[cols]\n",
        "df30.describe()"
      ],
      "execution_count": null,
      "outputs": [
        {
          "output_type": "execute_result",
          "data": {
            "text/html": [
              "<div>\n",
              "<style scoped>\n",
              "    .dataframe tbody tr th:only-of-type {\n",
              "        vertical-align: middle;\n",
              "    }\n",
              "\n",
              "    .dataframe tbody tr th {\n",
              "        vertical-align: top;\n",
              "    }\n",
              "\n",
              "    .dataframe thead th {\n",
              "        text-align: right;\n",
              "    }\n",
              "</style>\n",
              "<table border=\"1\" class=\"dataframe\">\n",
              "  <thead>\n",
              "    <tr style=\"text-align: right;\">\n",
              "      <th></th>\n",
              "      <th>XRP Marketcap</th>\n",
              "      <th>DOGE Marketcap</th>\n",
              "      <th>BTC Marketcap</th>\n",
              "      <th>BNB Marketcap</th>\n",
              "      <th>LTC Marketcap</th>\n",
              "      <th>ADA Marketcap</th>\n",
              "      <th>ETH Marketcap</th>\n",
              "    </tr>\n",
              "  </thead>\n",
              "  <tbody>\n",
              "    <tr>\n",
              "      <th>count</th>\n",
              "      <td>1.283000e+03</td>\n",
              "      <td>1.283000e+03</td>\n",
              "      <td>1.283000e+03</td>\n",
              "      <td>1.283000e+03</td>\n",
              "      <td>1.283000e+03</td>\n",
              "      <td>1.283000e+03</td>\n",
              "      <td>1.283000e+03</td>\n",
              "    </tr>\n",
              "    <tr>\n",
              "      <th>mean</th>\n",
              "      <td>1.938835e+10</td>\n",
              "      <td>3.716991e+09</td>\n",
              "      <td>2.566825e+11</td>\n",
              "      <td>8.782696e+09</td>\n",
              "      <td>5.892992e+09</td>\n",
              "      <td>7.908046e+09</td>\n",
              "      <td>6.398104e+10</td>\n",
              "    </tr>\n",
              "    <tr>\n",
              "      <th>std</th>\n",
              "      <td>1.477057e+10</td>\n",
              "      <td>1.159985e+10</td>\n",
              "      <td>2.632142e+11</td>\n",
              "      <td>1.865734e+10</td>\n",
              "      <td>4.048319e+09</td>\n",
              "      <td>1.338811e+10</td>\n",
              "      <td>8.158820e+10</td>\n",
              "    </tr>\n",
              "    <tr>\n",
              "      <th>min</th>\n",
              "      <td>6.118533e+09</td>\n",
              "      <td>1.901449e+08</td>\n",
              "      <td>5.640069e+10</td>\n",
              "      <td>5.923443e+08</td>\n",
              "      <td>1.397819e+09</td>\n",
              "      <td>6.212325e+08</td>\n",
              "      <td>8.751210e+09</td>\n",
              "    </tr>\n",
              "    <tr>\n",
              "      <th>25%</th>\n",
              "      <td>1.116040e+10</td>\n",
              "      <td>2.976387e+08</td>\n",
              "      <td>1.170000e+11</td>\n",
              "      <td>1.443892e+09</td>\n",
              "      <td>3.083999e+09</td>\n",
              "      <td>1.252706e+09</td>\n",
              "      <td>1.929114e+10</td>\n",
              "    </tr>\n",
              "    <tr>\n",
              "      <th>50%</th>\n",
              "      <td>1.349293e+10</td>\n",
              "      <td>3.512757e+08</td>\n",
              "      <td>1.600000e+11</td>\n",
              "      <td>2.650419e+09</td>\n",
              "      <td>4.284330e+09</td>\n",
              "      <td>2.327045e+09</td>\n",
              "      <td>2.821533e+10</td>\n",
              "    </tr>\n",
              "    <tr>\n",
              "      <th>75%</th>\n",
              "      <td>2.140805e+10</td>\n",
              "      <td>5.669079e+08</td>\n",
              "      <td>2.110000e+11</td>\n",
              "      <td>4.230451e+09</td>\n",
              "      <td>7.878358e+09</td>\n",
              "      <td>5.210819e+09</td>\n",
              "      <td>6.364864e+10</td>\n",
              "    </tr>\n",
              "    <tr>\n",
              "      <th>max</th>\n",
              "      <td>1.310000e+11</td>\n",
              "      <td>8.868082e+10</td>\n",
              "      <td>1.190000e+12</td>\n",
              "      <td>1.040000e+11</td>\n",
              "      <td>2.579652e+10</td>\n",
              "      <td>7.377224e+10</td>\n",
              "      <td>4.830000e+11</td>\n",
              "    </tr>\n",
              "  </tbody>\n",
              "</table>\n",
              "</div>"
            ],
            "text/plain": [
              "       XRP Marketcap  DOGE Marketcap  ...  ADA Marketcap  ETH Marketcap\n",
              "count   1.283000e+03    1.283000e+03  ...   1.283000e+03   1.283000e+03\n",
              "mean    1.938835e+10    3.716991e+09  ...   7.908046e+09   6.398104e+10\n",
              "std     1.477057e+10    1.159985e+10  ...   1.338811e+10   8.158820e+10\n",
              "min     6.118533e+09    1.901449e+08  ...   6.212325e+08   8.751210e+09\n",
              "25%     1.116040e+10    2.976387e+08  ...   1.252706e+09   1.929114e+10\n",
              "50%     1.349293e+10    3.512757e+08  ...   2.327045e+09   2.821533e+10\n",
              "75%     2.140805e+10    5.669079e+08  ...   5.210819e+09   6.364864e+10\n",
              "max     1.310000e+11    8.868082e+10  ...   7.377224e+10   4.830000e+11\n",
              "\n",
              "[8 rows x 7 columns]"
            ]
          },
          "metadata": {},
          "execution_count": 158
        }
      ]
    },
    {
      "cell_type": "code",
      "metadata": {
        "colab": {
          "base_uri": "https://localhost:8080/",
          "height": 300
        },
        "id": "OQfXOO5ur1Xm",
        "outputId": "d9fb1218-4c31-43b4-e296-98a699d4cdd7"
      },
      "source": [
        "cols = ['XRP Open', 'DOGE Open', 'BTC Open', 'BNB Open', 'LTC Open', 'ADA Open', 'ETH Open']\n",
        "df32=df13[cols]\n",
        "df32.describe()"
      ],
      "execution_count": null,
      "outputs": [
        {
          "output_type": "execute_result",
          "data": {
            "text/html": [
              "<div>\n",
              "<style scoped>\n",
              "    .dataframe tbody tr th:only-of-type {\n",
              "        vertical-align: middle;\n",
              "    }\n",
              "\n",
              "    .dataframe tbody tr th {\n",
              "        vertical-align: top;\n",
              "    }\n",
              "\n",
              "    .dataframe thead th {\n",
              "        text-align: right;\n",
              "    }\n",
              "</style>\n",
              "<table border=\"1\" class=\"dataframe\">\n",
              "  <thead>\n",
              "    <tr style=\"text-align: right;\">\n",
              "      <th></th>\n",
              "      <th>XRP Open</th>\n",
              "      <th>DOGE Open</th>\n",
              "      <th>BTC Open</th>\n",
              "      <th>BNB Open</th>\n",
              "      <th>LTC Open</th>\n",
              "      <th>ADA Open</th>\n",
              "      <th>ETH Open</th>\n",
              "    </tr>\n",
              "  </thead>\n",
              "  <tbody>\n",
              "    <tr>\n",
              "      <th>count</th>\n",
              "      <td>1283.000000</td>\n",
              "      <td>1283.000000</td>\n",
              "      <td>1283.000000</td>\n",
              "      <td>1283.000000</td>\n",
              "      <td>1283.000000</td>\n",
              "      <td>1283.000000</td>\n",
              "      <td>1283.000000</td>\n",
              "    </tr>\n",
              "    <tr>\n",
              "      <th>mean</th>\n",
              "      <td>0.463946</td>\n",
              "      <td>0.028712</td>\n",
              "      <td>14051.391106</td>\n",
              "      <td>58.236635</td>\n",
              "      <td>94.806826</td>\n",
              "      <td>0.264890</td>\n",
              "      <td>578.568110</td>\n",
              "    </tr>\n",
              "    <tr>\n",
              "      <th>std</th>\n",
              "      <td>0.371379</td>\n",
              "      <td>0.089114</td>\n",
              "      <td>13964.458862</td>\n",
              "      <td>120.660709</td>\n",
              "      <td>63.755346</td>\n",
              "      <td>0.418830</td>\n",
              "      <td>702.800191</td>\n",
              "    </tr>\n",
              "    <tr>\n",
              "      <th>min</th>\n",
              "      <td>0.140524</td>\n",
              "      <td>0.001540</td>\n",
              "      <td>3236.274773</td>\n",
              "      <td>4.532951</td>\n",
              "      <td>23.462881</td>\n",
              "      <td>0.023954</td>\n",
              "      <td>84.279694</td>\n",
              "    </tr>\n",
              "    <tr>\n",
              "      <th>25%</th>\n",
              "      <td>0.255565</td>\n",
              "      <td>0.002455</td>\n",
              "      <td>6744.620069</td>\n",
              "      <td>12.604000</td>\n",
              "      <td>48.470610</td>\n",
              "      <td>0.048353</td>\n",
              "      <td>180.161444</td>\n",
              "    </tr>\n",
              "    <tr>\n",
              "      <th>50%</th>\n",
              "      <td>0.321314</td>\n",
              "      <td>0.002900</td>\n",
              "      <td>8988.923709</td>\n",
              "      <td>17.410638</td>\n",
              "      <td>68.114608</td>\n",
              "      <td>0.089297</td>\n",
              "      <td>263.934134</td>\n",
              "    </tr>\n",
              "    <tr>\n",
              "      <th>75%</th>\n",
              "      <td>0.516571</td>\n",
              "      <td>0.004622</td>\n",
              "      <td>11505.771050</td>\n",
              "      <td>28.607989</td>\n",
              "      <td>129.527439</td>\n",
              "      <td>0.190433</td>\n",
              "      <td>599.682116</td>\n",
              "    </tr>\n",
              "    <tr>\n",
              "      <th>max</th>\n",
              "      <td>3.363570</td>\n",
              "      <td>0.687801</td>\n",
              "      <td>63523.754870</td>\n",
              "      <td>676.315905</td>\n",
              "      <td>387.869179</td>\n",
              "      <td>2.300190</td>\n",
              "      <td>4174.635873</td>\n",
              "    </tr>\n",
              "  </tbody>\n",
              "</table>\n",
              "</div>"
            ],
            "text/plain": [
              "          XRP Open    DOGE Open  ...     ADA Open     ETH Open\n",
              "count  1283.000000  1283.000000  ...  1283.000000  1283.000000\n",
              "mean      0.463946     0.028712  ...     0.264890   578.568110\n",
              "std       0.371379     0.089114  ...     0.418830   702.800191\n",
              "min       0.140524     0.001540  ...     0.023954    84.279694\n",
              "25%       0.255565     0.002455  ...     0.048353   180.161444\n",
              "50%       0.321314     0.002900  ...     0.089297   263.934134\n",
              "75%       0.516571     0.004622  ...     0.190433   599.682116\n",
              "max       3.363570     0.687801  ...     2.300190  4174.635873\n",
              "\n",
              "[8 rows x 7 columns]"
            ]
          },
          "metadata": {},
          "execution_count": 159
        }
      ]
    },
    {
      "cell_type": "code",
      "metadata": {
        "colab": {
          "base_uri": "https://localhost:8080/",
          "height": 300
        },
        "id": "i54CLKmUsUpR",
        "outputId": "3122606c-00f5-42c8-e62a-a32a6f3c446c"
      },
      "source": [
        "cols = ['XRP Volume', 'DOGE Volume', 'BTC Volume', 'BNB Volume', 'LTC Volume', 'ADA Volume', 'ETH Volume']\n",
        "df34=df13[cols]\n",
        "df34.describe()"
      ],
      "execution_count": null,
      "outputs": [
        {
          "output_type": "execute_result",
          "data": {
            "text/html": [
              "<div>\n",
              "<style scoped>\n",
              "    .dataframe tbody tr th:only-of-type {\n",
              "        vertical-align: middle;\n",
              "    }\n",
              "\n",
              "    .dataframe tbody tr th {\n",
              "        vertical-align: top;\n",
              "    }\n",
              "\n",
              "    .dataframe thead th {\n",
              "        text-align: right;\n",
              "    }\n",
              "</style>\n",
              "<table border=\"1\" class=\"dataframe\">\n",
              "  <thead>\n",
              "    <tr style=\"text-align: right;\">\n",
              "      <th></th>\n",
              "      <th>XRP Volume</th>\n",
              "      <th>DOGE Volume</th>\n",
              "      <th>BTC Volume</th>\n",
              "      <th>BNB Volume</th>\n",
              "      <th>LTC Volume</th>\n",
              "      <th>ADA Volume</th>\n",
              "      <th>ETH Volume</th>\n",
              "    </tr>\n",
              "  </thead>\n",
              "  <tbody>\n",
              "    <tr>\n",
              "      <th>count</th>\n",
              "      <td>1.283000e+03</td>\n",
              "      <td>1.283000e+03</td>\n",
              "      <td>1.283000e+03</td>\n",
              "      <td>1.283000e+03</td>\n",
              "      <td>1.283000e+03</td>\n",
              "      <td>1.283000e+03</td>\n",
              "      <td>1.283000e+03</td>\n",
              "    </tr>\n",
              "    <tr>\n",
              "      <th>mean</th>\n",
              "      <td>2.759823e+09</td>\n",
              "      <td>9.270556e+08</td>\n",
              "      <td>2.470527e+10</td>\n",
              "      <td>7.021030e+08</td>\n",
              "      <td>2.896961e+09</td>\n",
              "      <td>9.518064e+08</td>\n",
              "      <td>1.166426e+10</td>\n",
              "    </tr>\n",
              "    <tr>\n",
              "      <th>std</th>\n",
              "      <td>4.236831e+09</td>\n",
              "      <td>4.062452e+09</td>\n",
              "      <td>2.220261e+10</td>\n",
              "      <td>1.552417e+09</td>\n",
              "      <td>2.665179e+09</td>\n",
              "      <td>2.169071e+09</td>\n",
              "      <td>1.175697e+10</td>\n",
              "    </tr>\n",
              "    <tr>\n",
              "      <th>min</th>\n",
              "      <td>1.348410e+08</td>\n",
              "      <td>2.134170e+06</td>\n",
              "      <td>2.923670e+09</td>\n",
              "      <td>9.284190e+03</td>\n",
              "      <td>1.874860e+08</td>\n",
              "      <td>8.387951e+06</td>\n",
              "      <td>9.484880e+08</td>\n",
              "    </tr>\n",
              "    <tr>\n",
              "      <th>25%</th>\n",
              "      <td>7.116460e+08</td>\n",
              "      <td>1.868439e+07</td>\n",
              "      <td>6.951185e+09</td>\n",
              "      <td>8.630089e+07</td>\n",
              "      <td>5.988625e+08</td>\n",
              "      <td>5.524340e+07</td>\n",
              "      <td>2.747710e+09</td>\n",
              "    </tr>\n",
              "    <tr>\n",
              "      <th>50%</th>\n",
              "      <td>1.387714e+09</td>\n",
              "      <td>5.692076e+07</td>\n",
              "      <td>1.899173e+10</td>\n",
              "      <td>2.249823e+08</td>\n",
              "      <td>2.507212e+09</td>\n",
              "      <td>1.289617e+08</td>\n",
              "      <td>7.872664e+09</td>\n",
              "    </tr>\n",
              "    <tr>\n",
              "      <th>75%</th>\n",
              "      <td>2.477736e+09</td>\n",
              "      <td>1.571359e+08</td>\n",
              "      <td>3.535446e+10</td>\n",
              "      <td>4.256451e+08</td>\n",
              "      <td>3.887564e+09</td>\n",
              "      <td>5.856294e+08</td>\n",
              "      <td>1.509416e+10</td>\n",
              "    </tr>\n",
              "    <tr>\n",
              "      <th>max</th>\n",
              "      <td>3.695518e+10</td>\n",
              "      <td>6.941068e+10</td>\n",
              "      <td>3.510000e+11</td>\n",
              "      <td>1.798295e+10</td>\n",
              "      <td>1.799426e+10</td>\n",
              "      <td>1.914198e+10</td>\n",
              "      <td>8.448291e+10</td>\n",
              "    </tr>\n",
              "  </tbody>\n",
              "</table>\n",
              "</div>"
            ],
            "text/plain": [
              "         XRP Volume   DOGE Volume  ...    ADA Volume    ETH Volume\n",
              "count  1.283000e+03  1.283000e+03  ...  1.283000e+03  1.283000e+03\n",
              "mean   2.759823e+09  9.270556e+08  ...  9.518064e+08  1.166426e+10\n",
              "std    4.236831e+09  4.062452e+09  ...  2.169071e+09  1.175697e+10\n",
              "min    1.348410e+08  2.134170e+06  ...  8.387951e+06  9.484880e+08\n",
              "25%    7.116460e+08  1.868439e+07  ...  5.524340e+07  2.747710e+09\n",
              "50%    1.387714e+09  5.692076e+07  ...  1.289617e+08  7.872664e+09\n",
              "75%    2.477736e+09  1.571359e+08  ...  5.856294e+08  1.509416e+10\n",
              "max    3.695518e+10  6.941068e+10  ...  1.914198e+10  8.448291e+10\n",
              "\n",
              "[8 rows x 7 columns]"
            ]
          },
          "metadata": {},
          "execution_count": 160
        }
      ]
    },
    {
      "cell_type": "code",
      "metadata": {
        "id": "n2oX6Ox19pad"
      },
      "source": [
        "df14.describe()"
      ],
      "execution_count": null,
      "outputs": []
    },
    {
      "cell_type": "code",
      "metadata": {
        "id": "L3HUvnEvBP1l"
      },
      "source": [
        "cols = ['Date', 'XRP Close', 'DOGE Close', 'BTC Close', 'BNB Close', 'LTC Close', 'ADA Close', 'ETH Close']\n",
        "df18=df13[cols]\n",
        "df18"
      ],
      "execution_count": null,
      "outputs": []
    },
    {
      "cell_type": "code",
      "metadata": {
        "id": "P8Q7mmuW788i"
      },
      "source": [
        "cols = ['DOGE Close', 'Date']\n",
        "df15=df13[cols]\n",
        "df15"
      ],
      "execution_count": null,
      "outputs": []
    },
    {
      "cell_type": "code",
      "metadata": {
        "id": "v7ajc7-S2uvY"
      },
      "source": [
        "\"Plotting\""
      ],
      "execution_count": null,
      "outputs": []
    },
    {
      "cell_type": "code",
      "metadata": {
        "id": "J604bP1SuLAa"
      },
      "source": [
        "import pandas as pd\n",
        "import numpy as np\n",
        "import matplotlib.pyplot as plt\n",
        "import plotly.graph_objs as go\n",
        "from plotly.offline import init_notebook_mode, iplot\n",
        "init_notebook_mode(connected=True)\n",
        "import plotly\n",
        "\n",
        "cols = ['XRP Marketcap', 'DOGE Marketcap', 'BTC Marketcap', 'BNB Marketcap', 'LTC Marketcap', 'ADA Marketcap', 'ETH Marketcap', 'XRP Volume', 'DOGE Volume', 'BTC Volume', 'BNB Volume', 'LTC Volume', 'ADA Volume', 'ETH Volume',]\n",
        "df30=df13[cols]\n",
        "x=df30[['XRP Marketcap',  'XRP Volume']].plot()\n",
        "plt.title('XRP Marketcap and Volume Trends')\n",
        "plt.savefig('XRP mkvol.png',dpi=300)\n",
        "plt.show()"
      ],
      "execution_count": null,
      "outputs": []
    },
    {
      "cell_type": "code",
      "metadata": {
        "id": "8apVVlpAdtUL"
      },
      "source": [
        "cols = ['XRP Marketcap', 'DOGE Marketcap', 'BTC Marketcap', 'BNB Marketcap', 'LTC Marketcap', 'ADA Marketcap', 'ETH Marketcap', 'XRP Volume', 'DOGE Volume', 'BTC Volume', 'BNB Volume', 'LTC Volume', 'ADA Volume', 'ETH Volume',]\n",
        "df30=df13[cols]\n",
        "x=df30[['DOGE Marketcap',  'DOGE Volume']].plot()\n",
        "plt.title('Dogecoin Marketcap and Volume Trends')\n",
        "plt.savefig('DOGE mkvol.png',dpi=300)\n",
        "plt.show()"
      ],
      "execution_count": null,
      "outputs": []
    },
    {
      "cell_type": "code",
      "metadata": {
        "id": "8vWvcqKYeBoP"
      },
      "source": [
        "cols = ['XRP Marketcap', 'DOGE Marketcap', 'BTC Marketcap', 'BNB Marketcap', 'LTC Marketcap', 'ADA Marketcap', 'ETH Marketcap', 'XRP Volume', 'DOGE Volume', 'BTC Volume', 'BNB Volume', 'LTC Volume', 'ADA Volume', 'ETH Volume',]\n",
        "df30=df13[cols]\n",
        "x=df30[['BTC Marketcap',  'BTC Volume']].plot()\n",
        "plt.title('Bitcoin Marketcap and Volume Trends')\n",
        "plt.savefig('BTC mkvol.png',dpi=300)\n",
        "plt.show()"
      ],
      "execution_count": null,
      "outputs": []
    },
    {
      "cell_type": "code",
      "metadata": {
        "id": "CEkhqKAveCMc"
      },
      "source": [
        "cols = ['XRP Marketcap', 'DOGE Marketcap', 'BTC Marketcap', 'BNB Marketcap', 'LTC Marketcap', 'ADA Marketcap', 'ETH Marketcap', 'XRP Volume', 'DOGE Volume', 'BTC Volume', 'BNB Volume', 'LTC Volume', 'ADA Volume', 'ETH Volume',]\n",
        "df30=df13[cols]\n",
        "x=df30[['BNB Marketcap',  'BNB Volume']].plot()\n",
        "plt.title('Binancecoin Marketcap and Volume Trends')\n",
        "plt.savefig('BNB mkvol.png',dpi=300)\n",
        "plt.show()"
      ],
      "execution_count": null,
      "outputs": []
    },
    {
      "cell_type": "code",
      "metadata": {
        "id": "60lMiQVFeCo4"
      },
      "source": [
        "cols = ['XRP Marketcap', 'DOGE Marketcap', 'BTC Marketcap', 'BNB Marketcap', 'LTC Marketcap', 'ADA Marketcap', 'ETH Marketcap', 'XRP Volume', 'DOGE Volume', 'BTC Volume', 'BNB Volume', 'LTC Volume', 'ADA Volume', 'ETH Volume',]\n",
        "df30=df13[cols]\n",
        "x=df30[['LTC Marketcap',  'LTC Volume']].plot()\n",
        "plt.title('Litecoin Marketcap and Volume Trends')\n",
        "plt.savefig('LTC mkvol.png',dpi=300)\n",
        "plt.show()"
      ],
      "execution_count": null,
      "outputs": []
    },
    {
      "cell_type": "code",
      "metadata": {
        "id": "k4xRo6iAebQv"
      },
      "source": [
        "cols = ['XRP Marketcap', 'DOGE Marketcap', 'BTC Marketcap', 'BNB Marketcap', 'LTC Marketcap', 'ADA Marketcap', 'ETH Marketcap', 'XRP Volume', 'DOGE Volume', 'BTC Volume', 'BNB Volume', 'LTC Volume', 'ADA Volume', 'ETH Volume',]\n",
        "df30=df13[cols]\n",
        "x=df30[['ADA Marketcap',  'ADA Volume']].plot()\n",
        "plt.title('Cardano Marketcap and Volume Trends')\n",
        "plt.savefig('ADA mkvol.png',dpi=300)\n",
        "plt.show()"
      ],
      "execution_count": null,
      "outputs": []
    },
    {
      "cell_type": "code",
      "metadata": {
        "id": "1f-5oLFVedA-"
      },
      "source": [
        "cols = ['XRP Marketcap', 'DOGE Marketcap', 'BTC Marketcap', 'BNB Marketcap', 'LTC Marketcap', 'ADA Marketcap', 'ETH Marketcap', 'XRP Volume', 'DOGE Volume', 'BTC Volume', 'BNB Volume', 'LTC Volume', 'ADA Volume', 'ETH Volume',]\n",
        "df30=df13[cols]\n",
        "x=df30[['ETH Marketcap',  'ETH Volume']].plot()\n",
        "plt.title('Ethereum Marketcap and Volume Trends')\n",
        "plt.savefig('ETH mkvol.png',dpi=300)\n",
        "plt.show()"
      ],
      "execution_count": null,
      "outputs": []
    },
    {
      "cell_type": "code",
      "metadata": {
        "id": "6mTkQE1Ry5F6"
      },
      "source": [
        "%matplotlib inline\n",
        "import seaborn as sns\n",
        "import matplotlib.pyplot as plt\n",
        "plt.style.use ('ggplot')\n",
        "\n",
        "cols = ['XRP Close', 'DOGE Close', 'BTC Close', 'BNB Close', 'LTC Close', 'ADA Close', 'ETH Close']\n",
        "df25=df13[cols]\n",
        "\n",
        "fig, ax = plt.subplots(figsize = (9,6))\n",
        "\n",
        "sns.scatterplot(x='XRP Close', y='ADA Close', data=df25, ax=ax, color='red')\n",
        "ax.set_title('Scatterplot of XRP versus Cardano', pad=20, size=18, color='gray')\n",
        "plt.savefig('XRP vs Cardano Scatterplot.png', dpi=300)\n",
        "plt.show()"
      ],
      "execution_count": null,
      "outputs": []
    },
    {
      "cell_type": "code",
      "metadata": {
        "id": "bRVWEhCVBlV7"
      },
      "source": [
        "%matplotlib inline\n",
        "import seaborn as sns\n",
        "import matplotlib.pyplot as plt\n",
        "plt.style.use ('ggplot')\n",
        "\n",
        "cols = ['XRP Close', 'DOGE Close', 'BTC Close', 'BNB Close', 'LTC Close', 'ADA Close', 'ETH Close']\n",
        "df25=df13[cols]\n",
        "\n",
        "fig, ax = plt.subplots(figsize = (9,6))\n",
        "\n",
        "sns.scatterplot(x='BTC Close', y='ETH Close', data=df25, ax=ax, color='red')\n",
        "ax.set_title('Scatterplot of Bitcoin versus Ethereum', pad=20, size=18, color='gray')\n",
        "plt.savefig('btc vs eth Scatterplot.png', dpi=300)\n",
        "plt.show()"
      ],
      "execution_count": null,
      "outputs": []
    },
    {
      "cell_type": "code",
      "metadata": {
        "id": "jT2A1lysEaNv"
      },
      "source": [
        "%matplotlib inline\n",
        "import seaborn as sns\n",
        "import matplotlib.pyplot as plt\n",
        "plt.style.use ('ggplot')\n",
        "\n",
        "cols = ['XRP Close', 'DOGE Close', 'BTC Close', 'BNB Close', 'LTC Close', 'ADA Close', 'ETH Close']\n",
        "df25=df13[cols]\n",
        "\n",
        "fig, ax = plt.subplots(figsize = (9,6))\n",
        "\n",
        "sns.scatterplot(x='ETH Close', y='ADA Close', data=df25, ax=ax, color='red')\n",
        "ax.set_title('Scatterplot of Ethreum versus Cardano', pad=20, size=18, color='gray')\n",
        "plt.savefig('Eth vs Cardano Scatterplot.png', dpi=300)\n",
        "plt.show()"
      ],
      "execution_count": null,
      "outputs": []
    },
    {
      "cell_type": "code",
      "metadata": {
        "id": "6kWEJJly_RVV"
      },
      "source": [
        "%matplotlib inline\n",
        "import seaborn as sns\n",
        "import matplotlib.pyplot as plt\n",
        "plt.style.use ('ggplot')\n",
        "\n",
        "cols = ['XRP Close', 'DOGE Close', 'BTC Close', 'BNB Close', 'LTC Close', 'ADA Close', 'ETH Close']\n",
        "df25=df13[cols]\n",
        "\n",
        "fig, ax = plt.subplots(figsize = (9,6))\n",
        "\n",
        "sns.scatterplot(x='LTC Close', y='BTC Close', data=df25, ax=ax, color='blue')\n",
        "ax.set_title('Scatterplot of Litecoin versus Bitcoin', pad=20, size=18, color='gray')\n",
        "plt.savefig('ltc and btc Scatterplot.png', dpi=300)\n",
        "plt.show()"
      ],
      "execution_count": null,
      "outputs": []
    },
    {
      "cell_type": "code",
      "metadata": {
        "id": "fq8kx_Yn3zKc"
      },
      "source": [
        "cols = ['XRP Close', 'DOGE Close', 'BTC Close', 'BNB Close', 'LTC Close', 'ADA Close', 'ETH Close']\n",
        "df26=df14[cols]\n",
        "\n",
        "df26.corr(method='pearson')"
      ],
      "execution_count": null,
      "outputs": []
    },
    {
      "cell_type": "code",
      "metadata": {
        "colab": {
          "base_uri": "https://localhost:8080/",
          "height": 269
        },
        "id": "acYf7Crg2IoJ",
        "outputId": "d2cd4348-5bbf-4d7f-be82-b7e1cec3f3b9"
      },
      "source": [
        "cols = ['XRP Volume', 'DOGE Volume', 'BTC Volume', 'BNB Volume', 'LTC Volume', 'ADA Volume', 'ETH Volume']\n",
        "df35=df13[cols]\n",
        "\n",
        "df35.corr(method='pearson')"
      ],
      "execution_count": null,
      "outputs": [
        {
          "output_type": "execute_result",
          "data": {
            "text/html": [
              "<div>\n",
              "<style scoped>\n",
              "    .dataframe tbody tr th:only-of-type {\n",
              "        vertical-align: middle;\n",
              "    }\n",
              "\n",
              "    .dataframe tbody tr th {\n",
              "        vertical-align: top;\n",
              "    }\n",
              "\n",
              "    .dataframe thead th {\n",
              "        text-align: right;\n",
              "    }\n",
              "</style>\n",
              "<table border=\"1\" class=\"dataframe\">\n",
              "  <thead>\n",
              "    <tr style=\"text-align: right;\">\n",
              "      <th></th>\n",
              "      <th>XRP Volume</th>\n",
              "      <th>DOGE Volume</th>\n",
              "      <th>BTC Volume</th>\n",
              "      <th>BNB Volume</th>\n",
              "      <th>LTC Volume</th>\n",
              "      <th>ADA Volume</th>\n",
              "      <th>ETH Volume</th>\n",
              "    </tr>\n",
              "  </thead>\n",
              "  <tbody>\n",
              "    <tr>\n",
              "      <th>XRP Volume</th>\n",
              "      <td>1.000000</td>\n",
              "      <td>0.469801</td>\n",
              "      <td>0.620001</td>\n",
              "      <td>0.572862</td>\n",
              "      <td>0.677733</td>\n",
              "      <td>0.584308</td>\n",
              "      <td>0.644271</td>\n",
              "    </tr>\n",
              "    <tr>\n",
              "      <th>DOGE Volume</th>\n",
              "      <td>0.469801</td>\n",
              "      <td>1.000000</td>\n",
              "      <td>0.419734</td>\n",
              "      <td>0.559041</td>\n",
              "      <td>0.428827</td>\n",
              "      <td>0.500373</td>\n",
              "      <td>0.549166</td>\n",
              "    </tr>\n",
              "    <tr>\n",
              "      <th>BTC Volume</th>\n",
              "      <td>0.620001</td>\n",
              "      <td>0.419734</td>\n",
              "      <td>1.000000</td>\n",
              "      <td>0.590221</td>\n",
              "      <td>0.799520</td>\n",
              "      <td>0.698639</td>\n",
              "      <td>0.863096</td>\n",
              "    </tr>\n",
              "    <tr>\n",
              "      <th>BNB Volume</th>\n",
              "      <td>0.572862</td>\n",
              "      <td>0.559041</td>\n",
              "      <td>0.590221</td>\n",
              "      <td>1.000000</td>\n",
              "      <td>0.484811</td>\n",
              "      <td>0.742452</td>\n",
              "      <td>0.681088</td>\n",
              "    </tr>\n",
              "    <tr>\n",
              "      <th>LTC Volume</th>\n",
              "      <td>0.677733</td>\n",
              "      <td>0.428827</td>\n",
              "      <td>0.799520</td>\n",
              "      <td>0.484811</td>\n",
              "      <td>1.000000</td>\n",
              "      <td>0.563265</td>\n",
              "      <td>0.789811</td>\n",
              "    </tr>\n",
              "    <tr>\n",
              "      <th>ADA Volume</th>\n",
              "      <td>0.584308</td>\n",
              "      <td>0.500373</td>\n",
              "      <td>0.698639</td>\n",
              "      <td>0.742452</td>\n",
              "      <td>0.563265</td>\n",
              "      <td>1.000000</td>\n",
              "      <td>0.752515</td>\n",
              "    </tr>\n",
              "    <tr>\n",
              "      <th>ETH Volume</th>\n",
              "      <td>0.644271</td>\n",
              "      <td>0.549166</td>\n",
              "      <td>0.863096</td>\n",
              "      <td>0.681088</td>\n",
              "      <td>0.789811</td>\n",
              "      <td>0.752515</td>\n",
              "      <td>1.000000</td>\n",
              "    </tr>\n",
              "  </tbody>\n",
              "</table>\n",
              "</div>"
            ],
            "text/plain": [
              "             XRP Volume  DOGE Volume  ...  ADA Volume  ETH Volume\n",
              "XRP Volume     1.000000     0.469801  ...    0.584308    0.644271\n",
              "DOGE Volume    0.469801     1.000000  ...    0.500373    0.549166\n",
              "BTC Volume     0.620001     0.419734  ...    0.698639    0.863096\n",
              "BNB Volume     0.572862     0.559041  ...    0.742452    0.681088\n",
              "LTC Volume     0.677733     0.428827  ...    0.563265    0.789811\n",
              "ADA Volume     0.584308     0.500373  ...    1.000000    0.752515\n",
              "ETH Volume     0.644271     0.549166  ...    0.752515    1.000000\n",
              "\n",
              "[7 rows x 7 columns]"
            ]
          },
          "metadata": {},
          "execution_count": 161
        }
      ]
    },
    {
      "cell_type": "code",
      "metadata": {
        "id": "WIwquwLo7ATc"
      },
      "source": [
        "import pandas as pd\n",
        "import matplotlib.pyplot as plt\n",
        "import seaborn as sns\n",
        "\n",
        "sns.heatmap(df25.corr())"
      ],
      "execution_count": null,
      "outputs": []
    },
    {
      "cell_type": "code",
      "metadata": {
        "id": "rmBPDRIt6w2v"
      },
      "source": [
        "import seaborn as sns\n",
        "sns.regplot(x=\"ADA Close\", y=\"ETH Close\", data=df25, color=\"b\")\n",
        "ax.set_title('Regression Model Cardano Versus Ethereum', pad=20, size=18, color='black')\n",
        "plt.title('Regression Model Cardano Versus Ethereum')\n",
        "plt.savefig('ada and eth reg.png', dpi=300)"
      ],
      "execution_count": null,
      "outputs": []
    },
    {
      "cell_type": "code",
      "metadata": {
        "id": "E2jCi6pjLfqH"
      },
      "source": [
        "import seaborn as sns\n",
        "sns.regplot(x=\"ETH Close\", y=\"BNB Close\", data=df25, color=\"b\")\n",
        "plt.title('Regression Model Ethereum Versus Binance')\n",
        "plt.savefig('eth and bnb reg.png', dpi=300)"
      ],
      "execution_count": null,
      "outputs": []
    },
    {
      "cell_type": "code",
      "metadata": {
        "id": "CpYKRD5x2wit"
      },
      "source": [
        "%matplotlib inline\n",
        "\n",
        "import matplotlib.pyplot as plt\n",
        "import pandas as pd\n",
        "\n",
        "plt.style.use('ggplot')\n",
        "\n",
        "cols = ['XRP Close', 'DOGE Close', 'BTC Close', 'BNB Close', 'LTC Close', 'ADA Close', 'ETH Close']\n",
        "df16=df13[cols]\n",
        "x=df16['XRP Close']\n",
        "\n",
        "fig, ax= plt.subplots()\n",
        "\n",
        "ax.hist(x, bins=42)\n",
        "\n",
        "ax.set_title('Histogram of XRP')\n",
        "ax.set_xlabel('XRP Close Market Value')\n",
        "ax.set_ylabel('Frequency')\n",
        "\n",
        "plt.savefig('Histogram of XRP.png',dpi=300)\n",
        "plt.show()\n",
        "\n"
      ],
      "execution_count": null,
      "outputs": []
    },
    {
      "cell_type": "code",
      "metadata": {
        "id": "CxlAuF6r5WLU"
      },
      "source": [
        "%matplotlib inline\n",
        "\n",
        "import matplotlib.pyplot as plt\n",
        "import pandas as pd\n",
        "\n",
        "plt.style.use('ggplot')\n",
        "\n",
        "cols = ['XRP Close', 'DOGE Close', 'BTC Close', 'BNB Close', 'LTC Close', 'ADA Close', 'ETH Close']\n",
        "df17=df13[cols]\n",
        "x=df17['DOGE Close']\n",
        "\n",
        "fig, ax= plt.subplots()\n",
        "\n",
        "ax.hist(x, bins=42)\n",
        "\n",
        "ax.set_title('Histogram of Dogecoin')\n",
        "ax.set_xlabel('Dogecoin Close Market Value')\n",
        "ax.set_ylabel('Frequency')\n",
        "\n",
        "plt.savefig('Histogram of DOGE.png',dpi=300)\n",
        "plt.show()"
      ],
      "execution_count": null,
      "outputs": []
    },
    {
      "cell_type": "code",
      "metadata": {
        "id": "79zu6U9iC6X1"
      },
      "source": [
        "%matplotlib inline\n",
        "\n",
        "import matplotlib.pyplot as plt\n",
        "import pandas as pd\n",
        "\n",
        "plt.style.use('ggplot')\n",
        "\n",
        "cols = ['XRP Close', 'DOGE Close', 'BTC Close', 'BNB Close', 'LTC Close', 'ADA Close', 'ETH Close']\n",
        "df19=df13[cols]\n",
        "x=df19['BTC Close']\n",
        "\n",
        "fig, ax= plt.subplots()\n",
        "\n",
        "ax.hist(x, bins=42)\n",
        "\n",
        "ax.set_title('Histogram of Bitcoin')\n",
        "ax.set_xlabel('Bitcoin Close Market Value')\n",
        "ax.set_ylabel('Frequency')\n",
        "\n",
        "plt.savefig('Histogram of BTC.png',dpi=300)\n",
        "plt.show()"
      ],
      "execution_count": null,
      "outputs": []
    },
    {
      "cell_type": "code",
      "metadata": {
        "id": "L-EMgcOHFiN5"
      },
      "source": [
        "%matplotlib inline\n",
        "\n",
        "import matplotlib.pyplot as plt\n",
        "import pandas as pd\n",
        "\n",
        "plt.style.use('ggplot')\n",
        "\n",
        "cols = ['XRP Close', 'DOGE Close', 'BTC Close', 'BNB Close', 'LTC Close', 'ADA Close', 'ETH Close']\n",
        "df20=df13[cols]\n",
        "x=df20['BNB Close']\n",
        "\n",
        "fig, ax= plt.subplots()\n",
        "\n",
        "ax.hist(x, bins=42)\n",
        "\n",
        "ax.set_title('Histogram of Binance')\n",
        "ax.set_xlabel('Binance Close Market Value')\n",
        "ax.set_ylabel('Frequency')\n",
        "\n",
        "plt.savefig('Histogram of BNB.png',dpi=300)\n",
        "plt.show()"
      ],
      "execution_count": null,
      "outputs": []
    },
    {
      "cell_type": "code",
      "metadata": {
        "id": "lrPWmUStFxdU"
      },
      "source": [
        "%matplotlib inline\n",
        "\n",
        "import matplotlib.pyplot as plt\n",
        "import pandas as pd\n",
        "\n",
        "plt.style.use('ggplot')\n",
        "\n",
        "cols = ['XRP Close', 'DOGE Close', 'BTC Close', 'BNB Close', 'LTC Close', 'ADA Close', 'ETH Close']\n",
        "df21=df13[cols]\n",
        "x=df21['LTC Close']\n",
        "\n",
        "fig, ax= plt.subplots()\n",
        "\n",
        "ax.hist(x, bins=42)\n",
        "\n",
        "ax.set_title('Histogram of Litecoin')\n",
        "ax.set_xlabel('LTC Close Market Value')\n",
        "ax.set_ylabel('Frequency')\n",
        "\n",
        "plt.savefig('Histogram of Litecoin.png',dpi=300)\n",
        "plt.show()"
      ],
      "execution_count": null,
      "outputs": []
    },
    {
      "cell_type": "code",
      "metadata": {
        "id": "Q6Mcs37dF8Ho"
      },
      "source": [
        "%matplotlib inline\n",
        "\n",
        "import matplotlib.pyplot as plt\n",
        "import pandas as pd\n",
        "\n",
        "plt.style.use('ggplot')\n",
        "\n",
        "cols = ['XRP Close', 'DOGE Close', 'BTC Close', 'BNB Close', 'LTC Close', 'ADA Close', 'ETH Close']\n",
        "df22=df13[cols]\n",
        "x=df22['ADA Close']\n",
        "\n",
        "fig, ax= plt.subplots()\n",
        "\n",
        "ax.hist(x, bins=42)\n",
        "\n",
        "ax.set_title('Histogram of Cardano')\n",
        "ax.set_xlabel('Cardano Close Market Value')\n",
        "ax.set_ylabel('Frequency')\n",
        "\n",
        "plt.savefig('Histogram of ADA.png',dpi=300)\n",
        "plt.show()"
      ],
      "execution_count": null,
      "outputs": []
    },
    {
      "cell_type": "code",
      "metadata": {
        "id": "4YhGZWhzGF-_"
      },
      "source": [
        "%matplotlib inline\n",
        "\n",
        "import matplotlib.pyplot as plt\n",
        "import pandas as pd\n",
        "\n",
        "plt.style.use('ggplot')\n",
        "\n",
        "cols = ['XRP Close', 'DOGE Close', 'BTC Close', 'BNB Close', 'LTC Close', 'ADA Close', 'ETH Close']\n",
        "df23=df13[cols]\n",
        "x=df23['ETH Close']\n",
        "\n",
        "fig, ax= plt.subplots()\n",
        "\n",
        "ax.hist(x, bins=42)\n",
        "\n",
        "ax.set_title('Histogram of Ethereum')\n",
        "ax.set_xlabel('Ethereum Close Market Value')\n",
        "ax.set_ylabel('Frequency')\n",
        "\n",
        "plt.savefig('Histogram of ETH.png',dpi=300)\n",
        "plt.show()"
      ],
      "execution_count": null,
      "outputs": []
    },
    {
      "cell_type": "code",
      "metadata": {
        "id": "dfXoLf_sTCv0"
      },
      "source": [
        "\"Linear Regression Section\""
      ],
      "execution_count": null,
      "outputs": []
    },
    {
      "cell_type": "code",
      "metadata": {
        "id": "1bkMtfwyQ8OK"
      },
      "source": [
        "cols = ['DOGE Close', 'DOGE Open']\n",
        "df15=df13[cols]\n",
        "df15"
      ],
      "execution_count": null,
      "outputs": []
    },
    {
      "cell_type": "code",
      "metadata": {
        "id": "W-wqAOkmRZj7"
      },
      "source": [
        "import seaborn as sns\n",
        "sns.regplot(x=\"DOGE Close\", y=\"DOGE Open\", data=df15, color=\"b\")\n",
        "plt.title('Regression Model Dogecoin Opening Market Value Versus Dogecoin Closing Market Value')\n"
      ],
      "execution_count": null,
      "outputs": []
    },
    {
      "cell_type": "code",
      "metadata": {
        "id": "DQpaHdfHQBUr"
      },
      "source": [
        "import pandas as pd\n",
        "data = df15\n",
        "x = data.iloc[:, 1:2].values\n",
        "y = data.iloc[:, 1].values"
      ],
      "execution_count": null,
      "outputs": []
    },
    {
      "cell_type": "code",
      "metadata": {
        "id": "K_550HB6R4ij"
      },
      "source": [
        "from sklearn.linear_model import LinearRegression\n",
        "lin_reg = LinearRegression()\n",
        "lin_reg.fit(x,y)"
      ],
      "execution_count": null,
      "outputs": []
    },
    {
      "cell_type": "code",
      "metadata": {
        "id": "utVLPQRqR98j"
      },
      "source": [
        "import matplotlib.pyplot as plt\n",
        "plt.scatter(x,y, color=\"purple\")\n",
        "plt.plot(x, lin_reg.predict(x))\n",
        "plt.title(\"Linear Regression of DogeCoin Open Versus DogeCoin Close \")\n",
        "plt.xlabel(\"Dogecoin Close\")\n",
        "plt.ylabel(\"Dogecoin Open\")\n",
        "plt.show()"
      ],
      "execution_count": null,
      "outputs": []
    },
    {
      "cell_type": "code",
      "metadata": {
        "id": "vmrnzx-TWLH6"
      },
      "source": [
        "import statsmodels.api as sm\n",
        "\n",
        "y = df15['DOGE Close']\n",
        "x = df15[['DOGE Open']]\n",
        "x = sm.add_constant(x)\n",
        "model = sm.OLS(y, x).fit()\n",
        "print(model.summary())\n",
        "\n"
      ],
      "execution_count": null,
      "outputs": []
    },
    {
      "cell_type": "code",
      "metadata": {
        "id": "gljAgd_qWybm"
      },
      "source": [
        "import statsmodels.api as sm\n",
        "\n",
        "cols = ['XRP Close', 'DOGE Close', 'BTC Close', 'BNB Close', 'LTC Close', 'ADA Close', 'ETH Close']\n",
        "df25=df13[cols]\n",
        "\n",
        "\n",
        "y = df13['BNB Close']\n",
        "x = df13[['ETH Close']]\n",
        "x = sm.add_constant(x)\n",
        "model = sm.OLS(y, x).fit()\n",
        "print(model.summary())\n",
        "\n"
      ],
      "execution_count": null,
      "outputs": []
    },
    {
      "cell_type": "code",
      "metadata": {
        "id": "SEmK8tASX4Xr"
      },
      "source": [
        "import statsmodels.api as sm\n",
        "\n",
        "cols = ['XRP Close', 'DOGE Close', 'BTC Close', 'BNB Close', 'LTC Close', 'ADA Close', 'ETH Close']\n",
        "df25=df13[cols]\n",
        "\n",
        "\n",
        "y = df13['ETH Close']\n",
        "x = df13[['ADA Close']]\n",
        "x = sm.add_constant(x)\n",
        "model = sm.OLS(y, x).fit()\n",
        "print(model.summary())"
      ],
      "execution_count": null,
      "outputs": []
    },
    {
      "cell_type": "code",
      "metadata": {
        "id": "t68nMYfXSB1m"
      },
      "source": [
        "lin_reg.predict([[6.5]])"
      ],
      "execution_count": null,
      "outputs": []
    },
    {
      "cell_type": "code",
      "metadata": {
        "id": "hsKHuD_QOygB"
      },
      "source": [
        "from sklearn.preprocessing import PolynomialFeatures\n",
        "poly_reg = PolynomialFeatures(degree=4)\n",
        "x_poly = poly_reg.fit_transform(x)"
      ],
      "execution_count": null,
      "outputs": []
    },
    {
      "cell_type": "code",
      "metadata": {
        "id": "WFcyWZnLP7A_"
      },
      "source": [
        "lin_reg_2 = LinearRegression()\n",
        "lin_reg_2.fit(x_poly,y)"
      ],
      "execution_count": null,
      "outputs": []
    },
    {
      "cell_type": "code",
      "metadata": {
        "id": "ON2tB7f9QppU"
      },
      "source": [
        "\"\"\"\"\"plt.scatter(x,y, color=\"red\")\n",
        "plt.plot(x, lin_reg_2.predict(poly_reg.fit_transform(x)))\n",
        "plt.title(\"Poly Regression - Degree 4\")\n",
        "plt.xlabel(\"Close\")\n",
        "plt.ylabel(\"\")\n",
        "plt.show()"
      ],
      "execution_count": null,
      "outputs": []
    },
    {
      "cell_type": "code",
      "metadata": {
        "id": "hj1StkLuZx5Q"
      },
      "source": [
        "\"Plotting with Dates\"\n",
        "\n",
        "import numpy as np \n",
        "import pandas as pd\n",
        "import datetime\n",
        "import os\n",
        "\n",
        "from sklearn import feature_extraction, linear_model, model_selection, preprocessing\n",
        "from sklearn.preprocessing import MinMaxScaler\n",
        "from sklearn.metrics import mean_absolute_error\n",
        "\n",
        "import seaborn as sns\n",
        "import matplotlib\n",
        "import matplotlib.pyplot as plt\n",
        "\n",
        "from keras.models import Sequential\n",
        "from keras.layers import Activation, Dense, Dropout, LSTM\n",
        "\n",
        "%matplotlib inline\n",
        "\n",
        "import warnings\n",
        "warnings.filterwarnings('ignore')\n"
      ],
      "execution_count": null,
      "outputs": []
    },
    {
      "cell_type": "code",
      "metadata": {
        "id": "uyJMqXnkZdF5"
      },
      "source": [
        "dates = matplotlib.dates.date2num(df13['Date'])"
      ],
      "execution_count": null,
      "outputs": []
    },
    {
      "cell_type": "code",
      "metadata": {
        "id": "Kf0D5rhdZ9FZ"
      },
      "source": [
        "plt.xlabel(\"Year\")\n",
        "plt.ylabel(\"Price(USD)\")\n",
        "plt.rc('axes', labelsize = 18) \n",
        "plt.rc('xtick', labelsize= 10)\n",
        "plt.rc('ytick', labelsize= 10)\n",
        "plt.title(\"Ethereum Year vs Close\", size=15)\n",
        "plt.plot_date(dates, df13['ETH Close'], color = \"purple\")\n",
        "plt.savefig('ETH yearclose.png',dpi=300)"
      ],
      "execution_count": null,
      "outputs": []
    },
    {
      "cell_type": "code",
      "metadata": {
        "id": "6fmADycKhw32"
      },
      "source": [
        "plt.xlabel(\"Year\")\n",
        "plt.ylabel(\"Price(USD)\")\n",
        "plt.rc('axes', labelsize = 18) \n",
        "plt.rc('xtick', labelsize= 10)\n",
        "plt.rc('ytick', labelsize= 10)\n",
        "plt.title(\"Bitcoin Year vs Close\", size=15)\n",
        "plt.plot_date(dates, df13['BTC Close'], color = \"blue\")\n",
        "plt.savefig('BTC yearclose.png',dpi=300)"
      ],
      "execution_count": null,
      "outputs": []
    },
    {
      "cell_type": "code",
      "metadata": {
        "id": "dF3fZNLnhw-k"
      },
      "source": [
        "plt.xlabel(\"Year\")\n",
        "plt.ylabel(\"Price(USD)\")\n",
        "plt.rc('axes', labelsize = 18) \n",
        "plt.rc('xtick', labelsize= 10)\n",
        "plt.rc('ytick', labelsize= 10)\n",
        "plt.title(\"Litecoin Year vs Close\", size=15)\n",
        "plt.plot_date(dates, df13['LTC Close'], color = \"pink\")\n",
        "plt.savefig('LTC yearclose.png',dpi=300)"
      ],
      "execution_count": null,
      "outputs": []
    },
    {
      "cell_type": "code",
      "metadata": {
        "id": "poy0Z7BoiDfo"
      },
      "source": [
        "plt.xlabel(\"Year\")\n",
        "plt.ylabel(\"Price(USD)\")\n",
        "plt.rc('axes', labelsize = 18) \n",
        "plt.rc('xtick', labelsize= 10)\n",
        "plt.rc('ytick', labelsize= 10)\n",
        "plt.title(\"Cardano Year vs Close\", size=15)\n",
        "plt.plot_date(dates, df13['ADA Close'], color = \"red\")\n",
        "plt.savefig('ADA yearclose.png',dpi=300)"
      ],
      "execution_count": null,
      "outputs": []
    },
    {
      "cell_type": "code",
      "metadata": {
        "id": "h-6nc0MYhxE6"
      },
      "source": [
        "plt.xlabel(\"Year\")\n",
        "plt.ylabel(\"Price(USD)\")\n",
        "plt.rc('axes', labelsize = 18) \n",
        "plt.rc('xtick', labelsize= 10)\n",
        "plt.rc('ytick', labelsize= 10)\n",
        "plt.title(\"Binancecoin Year vs Close\", size=15)\n",
        "plt.plot_date(dates, df13['BNB Close'], color = \"green\")\n",
        "plt.savefig('BNB yearclose.png',dpi=300)"
      ],
      "execution_count": null,
      "outputs": []
    },
    {
      "cell_type": "code",
      "metadata": {
        "id": "ha_juAcfhxK8"
      },
      "source": [
        "plt.xlabel(\"Year\")\n",
        "plt.ylabel(\"Price(USD)\")\n",
        "plt.rc('axes', labelsize = 18) \n",
        "plt.rc('xtick', labelsize= 10)\n",
        "plt.rc('ytick', labelsize= 10)\n",
        "plt.title(\"Dogecoin Year vs Close\", size=15)\n",
        "plt.plot_date(dates, df13['DOGE Close'], color = \"orange\")\n",
        "plt.savefig('DOGE yearclose.png',dpi=300)"
      ],
      "execution_count": null,
      "outputs": []
    },
    {
      "cell_type": "code",
      "metadata": {
        "id": "A2XOvSDXhxQ8"
      },
      "source": [
        "plt.xlabel(\"Year\")\n",
        "plt.ylabel(\"Price(USD)\")\n",
        "plt.rc('axes', labelsize = 18) \n",
        "plt.rc('xtick', labelsize= 10)\n",
        "plt.rc('ytick', labelsize= 10)\n",
        "plt.title(\"XRP Year vs Close\", size=15)\n",
        "plt.plot_date(dates, df13['XRP Close'], color = \"black\")\n",
        "plt.savefig('XRP yearclose.png',dpi=300)"
      ],
      "execution_count": null,
      "outputs": []
    },
    {
      "cell_type": "code",
      "metadata": {
        "id": "F3k3N_FJhxW6"
      },
      "source": [
        "from fbprophet import Prophet\n",
        "from fbprophet.plot import plot_plotly\n",
        "import plotly.offline as py\n",
        "py.init_notebook_mode()\n",
        "\n",
        "%matplotlib inline\n",
        "plt.style.use('fivethirtyeight')\n"
      ],
      "execution_count": null,
      "outputs": []
    },
    {
      "cell_type": "code",
      "metadata": {
        "id": "ZNvCUiLEm_mM"
      },
      "source": [
        "from fbprophet import Prophet\n",
        "from fbprophet.plot import plot_plotly\n",
        "import plotly.offline as py\n",
        "py.init_notebook_mode()\n",
        "\n",
        "%matplotlib inline\n",
        "plt.style.use('fivethirtyeight')\n",
        "\n",
        "prophet_mask = [\"Date\",\"LTC Close\"]\n",
        "df13_prophet = df13[prophet_mask]\n",
        "\n",
        "df13_prophet = df13_prophet.rename(columns={'Date': 'ds', 'LTC Close': 'y'})\n",
        "\n",
        "prophet_model = Prophet()\n",
        "\n",
        "prophet_model.fit(df13_prophet)\n",
        "\n",
        "time_period = 365\n",
        "future_dates = prophet_model.make_future_dataframe(periods=time_period)\n",
        "future_dates\n",
        "\n"
      ],
      "execution_count": null,
      "outputs": []
    },
    {
      "cell_type": "code",
      "metadata": {
        "id": "FDCEyWYHnUIs"
      },
      "source": [
        "forecast = prophet_model.predict(future_dates)\n",
        "forecast[['ds', 'yhat', 'yhat_lower', 'yhat_upper']]"
      ],
      "execution_count": null,
      "outputs": []
    },
    {
      "cell_type": "code",
      "metadata": {
        "id": "ehFjTuelnVNh"
      },
      "source": [
        "prophet_model.plot(forecast, uncertainty=True)\n",
        "plt.xlabel(\"Year\")\n",
        "plt.ylabel(\"Price(USD)\")\n",
        "plt.rc('axes', labelsize = 18) \n",
        "plt.rc('xtick', labelsize= 10)\n",
        "plt.rc('ytick', labelsize= 10)\n",
        "plt.title(\"Forecast for Litecoin\", size=15)\n",
        "plt.savefig('forecast LTC.png',dpi=300)\n",
        "\n"
      ],
      "execution_count": null,
      "outputs": []
    },
    {
      "cell_type": "code",
      "metadata": {
        "id": "iVCKyZppkJu-"
      },
      "source": [
        "prophet_mask = [\"Date\",\"ETH Close\"]\n",
        "df13_prophet = df13[prophet_mask]\n"
      ],
      "execution_count": null,
      "outputs": []
    },
    {
      "cell_type": "code",
      "metadata": {
        "id": "UeNAFuFGkJ4K"
      },
      "source": [
        "df13_prophet = df13_prophet.rename(columns={'Date': 'ds', 'ETH Close': 'y'})"
      ],
      "execution_count": null,
      "outputs": []
    },
    {
      "cell_type": "code",
      "metadata": {
        "id": "zoliT6W2kYYk"
      },
      "source": [
        "df13_prophet.head()"
      ],
      "execution_count": null,
      "outputs": []
    },
    {
      "cell_type": "code",
      "metadata": {
        "id": "sWNxHNAUkeYq"
      },
      "source": [
        "prophet_model = Prophet()\n",
        "\n",
        "\n",
        "prophet_model.fit(df13_prophet)"
      ],
      "execution_count": null,
      "outputs": []
    },
    {
      "cell_type": "code",
      "metadata": {
        "id": "mXdFYE8Vkx6e"
      },
      "source": [
        "time_period = 365\n",
        "future_dates = prophet_model.make_future_dataframe(periods=time_period)\n",
        "future_dates"
      ],
      "execution_count": null,
      "outputs": []
    },
    {
      "cell_type": "code",
      "metadata": {
        "id": "ciO2Iat7k06I"
      },
      "source": [
        "forecast = prophet_model.predict(future_dates)\n",
        "forecast[['ds', 'yhat', 'yhat_lower', 'yhat_upper']]"
      ],
      "execution_count": null,
      "outputs": []
    },
    {
      "cell_type": "code",
      "metadata": {
        "id": "1_3L9tMfk4ah"
      },
      "source": [
        "prophet_model.plot(forecast, uncertainty=True)\n",
        "plt.xlabel(\"Year\")\n",
        "plt.ylabel(\"Price(USD)\")\n",
        "plt.rc('axes', labelsize = 18) \n",
        "plt.rc('xtick', labelsize= 10)\n",
        "plt.rc('ytick', labelsize= 10)\n",
        "plt.title(\"Forecast for Ethereum\", size=15)\n",
        "plt.savefig('forecast ETH.png',dpi=300)\n",
        "\n"
      ],
      "execution_count": null,
      "outputs": []
    }
  ]
}